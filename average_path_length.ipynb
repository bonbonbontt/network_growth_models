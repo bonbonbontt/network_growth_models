{
 "cells": [
  {
   "cell_type": "markdown",
   "metadata": {},
   "source": [
    "# Average Path Length Distributions"
   ]
  },
  {
   "cell_type": "code",
   "execution_count": 25,
   "metadata": {
    "ExecuteTime": {
     "end_time": "2018-09-24T21:22:55.357964Z",
     "start_time": "2018-09-24T21:22:55.302905Z"
    },
    "collapsed": true
   },
   "outputs": [],
   "source": [
    "%load_ext autoreload\n",
    "%autoreload 2\n",
    "%matplotlib inline"
   ]
  },
  {
   "cell_type": "code",
   "execution_count": 35,
   "metadata": {
    "ExecuteTime": {
     "end_time": "2018-09-24T21:25:35.880398Z",
     "start_time": "2018-09-24T21:25:35.834623Z"
    },
    "collapsed": true
   },
   "outputs": [],
   "source": [
    "import pickle, json, os, sys, csv, random, operator\n",
    "from collections import defaultdict, Counter\n",
    "import numpy as np\n",
    "import pandas as pd\n",
    "import igraph as ig\n",
    "import networkx as nx\n",
    "import seaborn as sns\n",
    "import matplotlib.pyplot as plt\n",
    "\n",
    "import utils\n",
    "import netprop"
   ]
  },
  {
   "cell_type": "markdown",
   "metadata": {},
   "source": [
    "## Load datasets"
   ]
  },
  {
   "cell_type": "code",
   "execution_count": 3,
   "metadata": {
    "ExecuteTime": {
     "end_time": "2018-09-21T23:23:15.015535Z",
     "start_time": "2018-09-21T23:23:13.220645Z"
    }
   },
   "outputs": [
    {
     "name": "stdout",
     "output_type": "stream",
     "text": [
      "hepph\n",
      "IGRAPH DN-- 30558 347228 -- \n",
      "+ attr: attributed (g), attributes (g), single_attr (g), month (v), name (v), time (v), year (v)\n",
      "acl\n",
      "IGRAPH DN-- 18665 115311 -- \n",
      "+ attr: attributed (g), attributes (g), single_attr (g), attrs (v), id (v), name (v), single_attr (v), time (v), venue_id (v)\n",
      "judicial\n",
      "IGRAPH DN-- 30288 216738 -- \n",
      "+ attr: attributed (g), attributes (g), single_attr (g), name (v), time (v)\n"
     ]
    }
   ],
   "source": [
    "path = 'data/networks'\n",
    "paths = [os.path.join(path, f) for f in os.listdir(path) if not f.startswith('.')]\n",
    "\n",
    "networks = {}\n",
    "for gpath in paths:\n",
    "    fname = gpath.rsplit('/', 1)[-1].split('.')[0]\n",
    "    networks[fname] = ig.Graph.Read_Pickle(gpath)\n",
    "    print fname\n",
    "    print networks[fname].summary()"
   ]
  },
  {
   "cell_type": "markdown",
   "metadata": {},
   "source": [
    "## Load APL data"
   ]
  },
  {
   "cell_type": "code",
   "execution_count": 27,
   "metadata": {
    "ExecuteTime": {
     "end_time": "2018-09-24T21:23:05.849102Z",
     "start_time": "2018-09-24T21:23:05.806908Z"
    },
    "collapsed": true
   },
   "outputs": [],
   "source": [
    "def parse_path_length_data(fpath):\n",
    "    \"\"\"parse path length data and return apl distribution\"\"\"\n",
    "    pl_counter = defaultdict(int)\n",
    "    parse_line = lambda s: list(map(int, s.split(' ')))\n",
    "    with open(fpath, 'r') as f:\n",
    "        for line in f:\n",
    "            nid, k, freq = parse_line(line)\n",
    "            pl_counter[k] += freq\n",
    "            \n",
    "    total = float(sum(pl_counter.values()))\n",
    "    xk, pk = zip(*sorted({k: v/total for k,v in pl_counter.items()}.items()))\n",
    "    return xk, pk"
   ]
  },
  {
   "cell_type": "markdown",
   "metadata": {},
   "source": [
    "## Visualize APL distributions"
   ]
  },
  {
   "cell_type": "code",
   "execution_count": 40,
   "metadata": {
    "ExecuteTime": {
     "end_time": "2018-09-24T21:26:47.156392Z",
     "start_time": "2018-09-24T21:26:46.291557Z"
    }
   },
   "outputs": [
    {
     "data": {
      "text/plain": [
       "<matplotlib.axes._subplots.AxesSubplot at 0x10ecf15d0>"
      ]
     },
     "execution_count": 40,
     "metadata": {},
     "output_type": "execute_result"
    },
    {
     "data": {
      "image/png": "[encoded data removed]",
      "text/plain": [
       "<matplotlib.figure.Figure at 0x10ed17b10>"
      ]
     },
     "metadata": {},
     "output_type": "display_data"
    }
   ],
   "source": [
    "#ACL \n",
    "xk, pk = parse_path_length_data('data/path_length_outputs/acl_v2.txt')\n",
    "ax = plt.subplot()\n",
    "ax.plot(xk, pk, label='acl data', marker='o', lw=3, mfc='w')\n",
    "utils.update_ax(ax, 'average path length', 'path length', 'probability')"
   ]
  },
  {
   "cell_type": "code",
   "execution_count": null,
   "metadata": {
    "collapsed": true
   },
   "outputs": [],
   "source": []
  }
 ],
 "metadata": {
  "kernelspec": {
   "display_name": "Python 2",
   "language": "python",
   "name": "python2"
  },
  "language_info": {
   "codemirror_mode": {
    "name": "ipython",
    "version": 2
   },
   "file_extension": ".py",
   "mimetype": "text/x-python",
   "name": "python",
   "nbconvert_exporter": "python",
   "pygments_lexer": "ipython2",
   "version": "2.7.14"
  },
  "latex_envs": {
   "LaTeX_envs_menu_present": true,
   "autocomplete": true,
   "bibliofile": "biblio.bib",
   "cite_by": "apalike",
   "current_citInitial": 1,
   "eqLabelWithNumbers": true,
   "eqNumInitial": 1,
   "hotkeys": {
    "equation": "Ctrl-E",
    "itemize": "Ctrl-I"
   },
   "labels_anchors": false,
   "latex_user_defs": false,
   "report_style_numbering": false,
   "user_envs_cfg": false
  },
  "toc": {
   "colors": {
    "hover_highlight": "#DAA520",
    "navigate_num": "#000000",
    "navigate_text": "#333333",
    "running_highlight": "#FF0000",
    "selected_highlight": "#FFD700",
    "sidebar_border": "#EEEEEE",
    "wrapper_background": "#FFFFFF"
   },
   "moveMenuLeft": true,
   "nav_menu": {
    "height": "85px",
    "width": "252px"
   },
   "navigate_menu": true,
   "number_sections": true,
   "sideBar": true,
   "threshold": 4,
   "toc_cell": false,
   "toc_section_display": "block",
   "toc_window_display": false,
   "widenNotebook": false
  }
 },
 "nbformat": 4,
 "nbformat_minor": 2
}
